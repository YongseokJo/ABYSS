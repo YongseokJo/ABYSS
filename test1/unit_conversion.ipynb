{
 "cells": [
  {
   "cell_type": "code",
   "execution_count": 13,
   "id": "9ee48ab6-f6d6-4f66-9d2f-f82a4e7e3e47",
   "metadata": {
    "execution": {
     "iopub.execute_input": "2024-08-16T16:45:07.561786Z",
     "iopub.status.busy": "2024-08-16T16:45:07.560975Z",
     "iopub.status.idle": "2024-08-16T16:45:07.567402Z",
     "shell.execute_reply": "2024-08-16T16:45:07.566599Z",
     "shell.execute_reply.started": "2024-08-16T16:45:07.561735Z"
    },
    "tags": []
   },
   "outputs": [],
   "source": [
    "import pandas as pd\n",
    "import numpy as np"
   ]
  },
  {
   "cell_type": "code",
   "execution_count": 14,
   "id": "d4870c8e-1bfb-42d5-b5a5-91be018b038b",
   "metadata": {
    "execution": {
     "iopub.execute_input": "2024-08-16T16:45:24.099035Z",
     "iopub.status.busy": "2024-08-16T16:45:24.098216Z",
     "iopub.status.idle": "2024-08-16T16:45:24.108091Z",
     "shell.execute_reply": "2024-08-16T16:45:24.107461Z",
     "shell.execute_reply.started": "2024-08-16T16:45:24.098985Z"
    },
    "tags": []
   },
   "outputs": [],
   "source": [
    "column_name_nbody = ['M', 'x', 'y', 'z', 'vx', 'vy', 'vz'] # Msol, pc, km/s\n",
    "df = pd.read_csv('./1e4Mcl_fbin0.3.NBODY', sep='\\s+', names=column_name_nbody)"
   ]
  },
  {
   "cell_type": "code",
   "execution_count": 15,
   "id": "ace406d1-2881-492f-b8e4-958cc3d0637b",
   "metadata": {
    "execution": {
     "iopub.execute_input": "2024-08-16T16:45:25.138225Z",
     "iopub.status.busy": "2024-08-16T16:45:25.137391Z",
     "iopub.status.idle": "2024-08-16T16:45:25.147746Z",
     "shell.execute_reply": "2024-08-16T16:45:25.146116Z",
     "shell.execute_reply.started": "2024-08-16T16:45:25.138173Z"
    },
    "tags": []
   },
   "outputs": [],
   "source": [
    "column_name_enzo = ['x', 'y', 'z', 'vx', 'vy', 'vz', 'M'] # kpc, km/s, 1e9 Msol\n",
    "enzo_file = pd.DataFrame(index=range(df.shape[0]), columns=range(df.shape[1]))\n",
    "enzo_file.columns = column_name_enzo"
   ]
  },
  {
   "cell_type": "code",
   "execution_count": 16,
   "id": "08984174-ef1e-4693-83b4-4c0a01b4fc7c",
   "metadata": {
    "execution": {
     "iopub.execute_input": "2024-08-16T16:45:25.606080Z",
     "iopub.status.busy": "2024-08-16T16:45:25.605311Z",
     "iopub.status.idle": "2024-08-16T16:45:25.614667Z",
     "shell.execute_reply": "2024-08-16T16:45:25.613826Z",
     "shell.execute_reply.started": "2024-08-16T16:45:25.606029Z"
    },
    "tags": []
   },
   "outputs": [],
   "source": [
    "enzo_file['x'] = df['x']*1e-3\n",
    "enzo_file['y'] = df['y']*1e-3\n",
    "enzo_file['z'] = df['z']*1e-3\n",
    "enzo_file['vx'] = df['vx']\n",
    "enzo_file['vy'] = df['vy']\n",
    "enzo_file['vz'] = df['vz']\n",
    "enzo_file['M'] = df['M']*1e-9"
   ]
  },
  {
   "cell_type": "code",
   "execution_count": 17,
   "id": "8c0d6276-d148-4f24-a172-03b4f8058c3c",
   "metadata": {
    "execution": {
     "iopub.execute_input": "2024-08-16T16:45:29.010608Z",
     "iopub.status.busy": "2024-08-16T16:45:29.009772Z",
     "iopub.status.idle": "2024-08-16T16:45:29.028185Z",
     "shell.execute_reply": "2024-08-16T16:45:29.027445Z",
     "shell.execute_reply.started": "2024-08-16T16:45:29.010558Z"
    },
    "tags": []
   },
   "outputs": [
    {
     "data": {
      "text/html": [
       "<div>\n",
       "<style scoped>\n",
       "    .dataframe tbody tr th:only-of-type {\n",
       "        vertical-align: middle;\n",
       "    }\n",
       "\n",
       "    .dataframe tbody tr th {\n",
       "        vertical-align: top;\n",
       "    }\n",
       "\n",
       "    .dataframe thead th {\n",
       "        text-align: right;\n",
       "    }\n",
       "</style>\n",
       "<table border=\"1\" class=\"dataframe\">\n",
       "  <thead>\n",
       "    <tr style=\"text-align: right;\">\n",
       "      <th></th>\n",
       "      <th>x</th>\n",
       "      <th>y</th>\n",
       "      <th>z</th>\n",
       "      <th>vx</th>\n",
       "      <th>vy</th>\n",
       "      <th>vz</th>\n",
       "      <th>M</th>\n",
       "    </tr>\n",
       "  </thead>\n",
       "  <tbody>\n",
       "    <tr>\n",
       "      <th>0</th>\n",
       "      <td>-0.000628</td>\n",
       "      <td>0.000505</td>\n",
       "      <td>0.000451</td>\n",
       "      <td>4.378128</td>\n",
       "      <td>-2.115903</td>\n",
       "      <td>-2.823191</td>\n",
       "      <td>1.000000e-08</td>\n",
       "    </tr>\n",
       "    <tr>\n",
       "      <th>1</th>\n",
       "      <td>-0.000626</td>\n",
       "      <td>0.000503</td>\n",
       "      <td>0.000451</td>\n",
       "      <td>3.140857</td>\n",
       "      <td>0.340366</td>\n",
       "      <td>-3.352261</td>\n",
       "      <td>1.000000e-08</td>\n",
       "    </tr>\n",
       "    <tr>\n",
       "      <th>2</th>\n",
       "      <td>0.000431</td>\n",
       "      <td>-0.000142</td>\n",
       "      <td>-0.000740</td>\n",
       "      <td>2.310137</td>\n",
       "      <td>-2.602482</td>\n",
       "      <td>3.066482</td>\n",
       "      <td>1.000000e-08</td>\n",
       "    </tr>\n",
       "    <tr>\n",
       "      <th>3</th>\n",
       "      <td>0.000437</td>\n",
       "      <td>-0.000181</td>\n",
       "      <td>-0.000745</td>\n",
       "      <td>1.797534</td>\n",
       "      <td>-3.598693</td>\n",
       "      <td>1.840704</td>\n",
       "      <td>1.000000e-08</td>\n",
       "    </tr>\n",
       "    <tr>\n",
       "      <th>4</th>\n",
       "      <td>-0.000831</td>\n",
       "      <td>-0.000071</td>\n",
       "      <td>-0.000642</td>\n",
       "      <td>-6.737870</td>\n",
       "      <td>-0.432961</td>\n",
       "      <td>0.167948</td>\n",
       "      <td>1.000000e-08</td>\n",
       "    </tr>\n",
       "    <tr>\n",
       "      <th>...</th>\n",
       "      <td>...</td>\n",
       "      <td>...</td>\n",
       "      <td>...</td>\n",
       "      <td>...</td>\n",
       "      <td>...</td>\n",
       "      <td>...</td>\n",
       "      <td>...</td>\n",
       "    </tr>\n",
       "    <tr>\n",
       "      <th>995</th>\n",
       "      <td>-0.000504</td>\n",
       "      <td>-0.000299</td>\n",
       "      <td>0.000750</td>\n",
       "      <td>3.547565</td>\n",
       "      <td>-1.050580</td>\n",
       "      <td>4.567378</td>\n",
       "      <td>1.000000e-08</td>\n",
       "    </tr>\n",
       "    <tr>\n",
       "      <th>996</th>\n",
       "      <td>0.000344</td>\n",
       "      <td>0.000138</td>\n",
       "      <td>0.000853</td>\n",
       "      <td>-1.848499</td>\n",
       "      <td>-0.026966</td>\n",
       "      <td>-4.468147</td>\n",
       "      <td>1.000000e-08</td>\n",
       "    </tr>\n",
       "    <tr>\n",
       "      <th>997</th>\n",
       "      <td>0.000513</td>\n",
       "      <td>0.000078</td>\n",
       "      <td>0.000050</td>\n",
       "      <td>-2.798070</td>\n",
       "      <td>1.804840</td>\n",
       "      <td>1.478460</td>\n",
       "      <td>1.000000e-08</td>\n",
       "    </tr>\n",
       "    <tr>\n",
       "      <th>998</th>\n",
       "      <td>0.000302</td>\n",
       "      <td>-0.000570</td>\n",
       "      <td>-0.000762</td>\n",
       "      <td>-3.377160</td>\n",
       "      <td>3.680524</td>\n",
       "      <td>0.585060</td>\n",
       "      <td>1.000000e-08</td>\n",
       "    </tr>\n",
       "    <tr>\n",
       "      <th>999</th>\n",
       "      <td>-0.000462</td>\n",
       "      <td>0.000039</td>\n",
       "      <td>-0.000099</td>\n",
       "      <td>-4.759179</td>\n",
       "      <td>0.833956</td>\n",
       "      <td>2.631027</td>\n",
       "      <td>1.000000e-08</td>\n",
       "    </tr>\n",
       "  </tbody>\n",
       "</table>\n",
       "<p>1000 rows × 7 columns</p>\n",
       "</div>"
      ],
      "text/plain": [
       "            x         y         z        vx        vy        vz             M\n",
       "0   -0.000628  0.000505  0.000451  4.378128 -2.115903 -2.823191  1.000000e-08\n",
       "1   -0.000626  0.000503  0.000451  3.140857  0.340366 -3.352261  1.000000e-08\n",
       "2    0.000431 -0.000142 -0.000740  2.310137 -2.602482  3.066482  1.000000e-08\n",
       "3    0.000437 -0.000181 -0.000745  1.797534 -3.598693  1.840704  1.000000e-08\n",
       "4   -0.000831 -0.000071 -0.000642 -6.737870 -0.432961  0.167948  1.000000e-08\n",
       "..        ...       ...       ...       ...       ...       ...           ...\n",
       "995 -0.000504 -0.000299  0.000750  3.547565 -1.050580  4.567378  1.000000e-08\n",
       "996  0.000344  0.000138  0.000853 -1.848499 -0.026966 -4.468147  1.000000e-08\n",
       "997  0.000513  0.000078  0.000050 -2.798070  1.804840  1.478460  1.000000e-08\n",
       "998  0.000302 -0.000570 -0.000762 -3.377160  3.680524  0.585060  1.000000e-08\n",
       "999 -0.000462  0.000039 -0.000099 -4.759179  0.833956  2.631027  1.000000e-08\n",
       "\n",
       "[1000 rows x 7 columns]"
      ]
     },
     "execution_count": 17,
     "metadata": {},
     "output_type": "execute_result"
    }
   ],
   "source": [
    "enzo_file"
   ]
  },
  {
   "cell_type": "code",
   "execution_count": 18,
   "id": "6d5e5809-8c9f-4178-9432-09ddbb1620c5",
   "metadata": {
    "execution": {
     "iopub.execute_input": "2024-08-16T16:45:31.784378Z",
     "iopub.status.busy": "2024-08-16T16:45:31.784073Z",
     "iopub.status.idle": "2024-08-16T16:45:31.797166Z",
     "shell.execute_reply": "2024-08-16T16:45:31.796586Z",
     "shell.execute_reply.started": "2024-08-16T16:45:31.784355Z"
    },
    "tags": []
   },
   "outputs": [],
   "source": [
    "enzo_file.to_csv('./nbody.dat', sep=' ', index=False, header=False)"
   ]
  },
  {
   "cell_type": "code",
   "execution_count": 22,
   "id": "1f39fe36-cd82-43ad-968b-e0351f07605a",
   "metadata": {
    "execution": {
     "iopub.execute_input": "2024-07-11T06:17:24.321762Z",
     "iopub.status.busy": "2024-07-11T06:17:24.320386Z",
     "iopub.status.idle": "2024-07-11T06:17:24.330482Z",
     "shell.execute_reply": "2024-07-11T06:17:24.329129Z",
     "shell.execute_reply.started": "2024-07-11T06:17:24.321703Z"
    },
    "tags": []
   },
   "outputs": [
    {
     "data": {
      "text/plain": [
       "'/data/vinicius/etc/IC'"
      ]
     },
     "execution_count": 22,
     "metadata": {},
     "output_type": "execute_result"
    }
   ],
   "source": [
    "pwd"
   ]
  },
  {
   "cell_type": "code",
   "execution_count": null,
   "id": "3d2bb59c-df3d-4754-86b1-d9fc2dfa80f2",
   "metadata": {},
   "outputs": [],
   "source": []
  },
  {
   "cell_type": "code",
   "execution_count": null,
   "id": "2499b799-439e-4a15-a611-02801ea03871",
   "metadata": {},
   "outputs": [],
   "source": []
  },
  {
   "cell_type": "code",
   "execution_count": null,
   "id": "1f29fc9a-a39a-471f-951a-f48acb32a465",
   "metadata": {},
   "outputs": [],
   "source": []
  },
  {
   "cell_type": "code",
   "execution_count": null,
   "id": "31c45c32-c07b-48df-95dc-5ff5ba2556fe",
   "metadata": {},
   "outputs": [],
   "source": []
  }
 ],
 "metadata": {
  "kernelspec": {
   "display_name": "Python 3 (ipykernel)",
   "language": "python",
   "name": "python3"
  },
  "language_info": {
   "codemirror_mode": {
    "name": "ipython",
    "version": 3
   },
   "file_extension": ".py",
   "mimetype": "text/x-python",
   "name": "python",
   "nbconvert_exporter": "python",
   "pygments_lexer": "ipython3",
   "version": "3.9.18"
  }
 },
 "nbformat": 4,
 "nbformat_minor": 5
}
